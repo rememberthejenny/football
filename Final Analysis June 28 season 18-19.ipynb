{
 "cells": [
  {
   "cell_type": "markdown",
   "metadata": {},
   "source": [
    "## Importing Libraries"
   ]
  },
  {
   "cell_type": "code",
   "execution_count": null,
   "metadata": {},
   "outputs": [],
   "source": [
    "#!pip install altair\n",
    "import altair as alt \n",
    "# to plot the rankings \n",
    "import matplotlib.pyplot as plt \n",
    "# to plot the x and y maps\n",
    "import numpy as np \n",
    "# to numerical calculation\n",
    "import pandas as pd \n",
    "# to read dataframes\n",
    "from sklearn.cluster import KMeans ,AgglomerativeClustering,Birch \n",
    "# we usr Brich here\n",
    "# to apply clustering\n",
    "from sklearn.preprocessing import StandardScaler \n",
    "# pre process before cluster\n",
    "import warnings\n",
    "warnings.filterwarnings(\"ignore\") \n",
    "# to remove extra prints\n",
    "from sklearn.decomposition import PCA\n",
    "import plotly.express as px\n",
    "\n",
    "import matplotlib as mpl\n",
    "from mpl_toolkits.mplot3d import Axes3D\n",
    "import numpy as np\n",
    "import matplotlib.pyplot as plt"
   ]
  },
  {
   "cell_type": "markdown",
   "metadata": {},
   "source": [
    "## Reading the datasets"
   ]
  },
  {
   "cell_type": "code",
   "execution_count": null,
   "metadata": {},
   "outputs": [],
   "source": [
    "List_Of_Players=pd.read_csv(\"LisOFPlayers18-19.csv\") \n",
    "#Reading Players Data\n",
    "Events_data=pd.read_csv(\"EventsUpdated.csv\") \n",
    "#Reading Events data\n",
    "Events_data=Events_data.drop(['Unnamed: 0'],axis=1)\n",
    "#Removing Extra Columns\n",
    "List_Of_Players=List_Of_Players.drop(['Unnamed: 0'],axis=1) \n",
    "Events_data['game_id']=Events_data['game_id'].astype(int) \n",
    "# So Both Dataframes merge correctly \n",
    "#Data type conversion should be the same in both Datasets in the next steps it's going to be merged based on a game ID."
   ]
  },
  {
   "cell_type": "markdown",
   "metadata": {},
   "source": [
    "## Merging the Datasets"
   ]
  },
  {
   "cell_type": "code",
   "execution_count": null,
   "metadata": {},
   "outputs": [],
   "source": [
    "Pre_Processing_step_dataframe = pd.merge(List_Of_Players, Events_data,  how='left', left_on=['player_id','GameID'], right_on = ['player_id','game_id']) \n",
    "#Merge both datasets based on GameID and player_ID"
   ]
  },
  {
   "cell_type": "markdown",
   "metadata": {},
   "source": [
    "### Pre Processing"
   ]
  },
  {
   "cell_type": "code",
   "execution_count": null,
   "metadata": {},
   "outputs": [],
   "source": [
    "Pre_Processing_step_dataframe=Pre_Processing_step_dataframe[Pre_Processing_step_dataframe['279'].isna()] \n",
    "# Remove Kick Off\n",
    "Pre_Processing_step_dataframe=Pre_Processing_step_dataframe[Pre_Processing_step_dataframe['position']!='Goalkeeper']\n",
    "Pre_Processing_step_dataframe=Pre_Processing_step_dataframe[Pre_Processing_step_dataframe['6']!=1] \n",
    "#Remove Corner taken.\n",
    "Pre_Processing_step_dataframe=Pre_Processing_step_dataframe[Pre_Processing_step_dataframe['2']!=1] \n",
    "#Remove Offside pass\n",
    "Pre_Processing_step_dataframe=Pre_Processing_step_dataframe[Pre_Processing_step_dataframe['5']!=1] \n",
    "#Remove Free kick taken\n",
    "Pre_Processing_step_dataframe=Pre_Processing_step_dataframe[Pre_Processing_step_dataframe['107']!=1] \n",
    "#Remove Throw-in\n",
    "Pre_Processing_step_dataframe = Pre_Processing_step_dataframe[Pre_Processing_step_dataframe['x'].notna()] \n",
    "#Dropping rows where location is empty\n",
    "Pre_Processing_step_dataframe.head(5) \n",
    "#Shows first 5 rows"
   ]
  },
  {
   "cell_type": "code",
   "execution_count": null,
   "metadata": {},
   "outputs": [],
   "source": [
    "Pre_Processing_step_dataframe=Pre_Processing_step_dataframe.reset_index(drop=True)\n",
    "# resetting index in case it is not\n",
    "Pre_Processing_step_dataframe['Team_Name']=Pre_Processing_step_dataframe['team_id']==Pre_Processing_step_dataframe['home_team_id']\n",
    "# checking whther player belong to home team\n",
    "Pre_Processing_step_dataframe['Team_Name'] = np.where(Pre_Processing_step_dataframe['Team_Name'] == True,Pre_Processing_step_dataframe['home_team_name'], Pre_Processing_step_dataframe['away_team_name'])\n",
    "# getting team name for player"
   ]
  },
  {
   "cell_type": "markdown",
   "metadata": {},
   "source": [
    "## Shots_dataframe and Assists"
   ]
  },
  {
   "cell_type": "code",
   "execution_count": null,
   "metadata": {},
   "outputs": [],
   "source": [
    "Pre_Processing_step_dataframe=Pre_Processing_step_dataframe.drop_duplicates() \n",
    "#Drop DPre_Processing_step_dataframelicates\n",
    "Shots_dataframe=Pre_Processing_step_dataframe[Pre_Processing_step_dataframe['type_id'].isin([13,14,15,16])]\n",
    "# Selection of Qualifiers\n",
    "Assists=Shots_dataframe[~Shots_dataframe['55'].isna()]\n",
    "# Qualifiers that are assists\n",
    "Assists=Assists.reset_index(drop=True)\n",
    "#  Resetting Index\n",
    "Assists_dataframe_cleaned=Assists.dropna(axis=1)\n",
    "# Drop Extra Columns"
   ]
  },
  {
   "cell_type": "code",
   "execution_count": null,
   "metadata": {},
   "outputs": [],
   "source": [
    "Assists_dataframe_cleaned"
   ]
  },
  {
   "cell_type": "markdown",
   "metadata": {},
   "source": [
    "## Passes"
   ]
  },
  {
   "cell_type": "code",
   "execution_count": null,
   "metadata": {},
   "outputs": [],
   "source": [
    "Pre_Processing_step_dataframe['1']=Pre_Processing_step_dataframe['1'].fillna(0)\n",
    "# Completing the 1st Events\n",
    "Pre_Processing_step_dataframe=Pre_Processing_step_dataframe.dropna(axis=1)\n",
    "#Dataframe_to_merge_for_3_conditions = Dataframe_to_merge_for_3_conditions[Dataframe_to_merge_for_3_conditions['type_id'] == 1]\n",
    "# Dropping Extra Columns\n",
    "\n",
    "Pre_Processing_step_dataframe['Shot Assist']=Pre_Processing_step_dataframe['id'].isin(list(Assists_dataframe_cleaned['id']))\n",
    "# for Checking for Shot Assist Column\n",
    "Pre_Processing_step_dataframe['Shot Assist']=Pre_Processing_step_dataframe['Shot Assist'].replace({True : 1, False : 0})\n",
    "# Replacing True False with 0 and 1\n",
    "Dataframe_to_merge_for_3_conditions=Pre_Processing_step_dataframe"
   ]
  },
  {
   "cell_type": "code",
   "execution_count": null,
   "metadata": {},
   "outputs": [],
   "source": [
    "Dataframe_to_merge_for_3_conditions['Check']=Dataframe_to_merge_for_3_conditions['event_id'].isin(list(Assists_dataframe_cleaned['55']))\n",
    "# checking if 55 exists"
   ]
  },
  {
   "cell_type": "code",
   "execution_count": null,
   "metadata": {},
   "outputs": [],
   "source": [
    "assists_updated_dataframe = pd.merge(Assists_dataframe_cleaned, Dataframe_to_merge_for_3_conditions,  how='left', left_on=['55','team_id','GameID'], right_on = ['event_id','team_id','GameID']) \n",
    "# The condition in which 55==event_id, team_id=team_id and gameid=gameid"
   ]
  },
  {
   "cell_type": "code",
   "execution_count": null,
   "metadata": {},
   "outputs": [],
   "source": [
    "assists_updated_dataframe.shape\n",
    "# satisfying the clustring"
   ]
  },
  {
   "cell_type": "code",
   "execution_count": null,
   "metadata": {},
   "outputs": [],
   "source": [
    "x = assists_updated_dataframe['x_x']\n",
    "y = assists_updated_dataframe['y_x']\n",
    "z = assists_updated_dataframe['GameID']\n",
    "gridsize = 30 \n",
    "plt.hexbin(x, y, C=z)   \n",
    "cb = plt.colorbar()\n",
    "cb.set_label('GameID')\n",
    "plt.gcf().set_size_inches(15, 12)\n",
    "plt.xlabel(\"X-location\")\n",
    "plt.ylabel(\"Y-location\")\n",
    "plt.title(\"Individual Values at all locations 2018-19\")\n",
    "plt.show() "
   ]
  },
  {
   "cell_type": "markdown",
   "metadata": {},
   "source": [
    "## To Make Clusters"
   ]
  },
  {
   "cell_type": "code",
   "execution_count": null,
   "metadata": {},
   "outputs": [],
   "source": [
    "Assists_dataframe_cleaned.columns"
   ]
  },
  {
   "cell_type": "code",
   "execution_count": null,
   "metadata": {},
   "outputs": [],
   "source": [
    "hue=Pre_Processing_step_dataframe.dropna()\n",
    "# for clustring\n",
    "tocluster=hue[['min','x','y','Shot Assist','1']]\n",
    "#Clustered on min,sec, x,y ,1  and Assist count column\n",
    "RemainingCols = hue.drop(['min','x','y','Shot Assist','1'],axis=1) \n",
    "#Selection of remaining columns, later used."
   ]
  },
  {
   "cell_type": "code",
   "execution_count": null,
   "metadata": {},
   "outputs": [],
   "source": [
    "scaler = StandardScaler() \n",
    "#Standardize features by removing the mean and scaling to unit variance\n",
    "scaled_features = scaler.fit_transform(tocluster)\n",
    "#Fit to data, then transform it.\n",
    "scaled_features \n",
    "#Shows scaled_features"
   ]
  },
  {
   "cell_type": "markdown",
   "metadata": {},
   "source": [
    "## PCA"
   ]
  },
  {
   "cell_type": "code",
   "execution_count": null,
   "metadata": {},
   "outputs": [],
   "source": [
    "scaled_features"
   ]
  },
  {
   "cell_type": "code",
   "execution_count": null,
   "metadata": {},
   "outputs": [],
   "source": [
    "# Reducing the data from 5 lables to (2 to 4 using PCA)\n",
    "# Checking how many number of components will be effective\n",
    "\n",
    "moods_features=scaled_features\n",
    "storenumber=list()\n",
    "storeexpl=list()\n",
    "i=2\n",
    "while i<5:\n",
    "    n_components = i\n",
    "    storenumber.append(i)\n",
    "    print(n_components)\n",
    "    pca = PCA(n_components=n_components)\n",
    "    components = pca.fit_transform(moods_features)\n",
    "\n",
    "    total_var = pca.explained_variance_ratio_.sum() * 100\n",
    "    storeexpl.append(total_var)\n",
    "\n",
    "    labels = {str(i): f\"PC {i+1}\" for i in range(n_components)}\n",
    "    labels['color'] = 'Label'\n",
    "\n",
    "    fig = px.scatter_matrix(\n",
    "        components,\n",
    "        dimensions=range(n_components),\n",
    "        labels=labels,\n",
    "        title=f'Total Explained Variance: {total_var:.2f}%',\n",
    "    )\n",
    "    fig.update_traces(diagonal_visible=False)\n",
    "    fig.show()\n",
    "    i=i+1"
   ]
  },
  {
   "cell_type": "code",
   "execution_count": null,
   "metadata": {},
   "outputs": [],
   "source": [
    "# 4 is chosen because 80% INFORMAION IS AVAILABLE\n",
    "pca = PCA(n_components=4)\n",
    "principal_components = pca.fit_transform(scaled_features)"
   ]
  },
  {
   "cell_type": "code",
   "execution_count": null,
   "metadata": {},
   "outputs": [],
   "source": [
    "principal_components.shape"
   ]
  },
  {
   "cell_type": "code",
   "execution_count": null,
   "metadata": {},
   "outputs": [],
   "source": [
    "principal_components"
   ]
  },
  {
   "cell_type": "code",
   "execution_count": null,
   "metadata": {},
   "outputs": [],
   "source": [
    "plt.bar(height=pca.explained_variance_ratio_*100,x=[1,2,3,4])\n",
    "plt.xlabel(\"Principal Components\")\n",
    "plt.ylabel(\"Percentage of Explained Variance\")\n",
    "plt.title(\"Percentage of Explained Variance per Principal Component\")\n",
    "plt.show()"
   ]
  },
  {
   "cell_type": "code",
   "execution_count": null,
   "metadata": {},
   "outputs": [],
   "source": [
    "# Birch will select Number of Optimal Clustes automatically\n",
    "model = Birch(branching_factor = 50, n_clusters = None, threshold = 1.5)\n",
    "model.fit(principal_components)\n",
    "pred = model.predict(principal_components)\n",
    "pred"
   ]
  },
  {
   "cell_type": "code",
   "execution_count": null,
   "metadata": {},
   "outputs": [],
   "source": [
    "principal_components"
   ]
  },
  {
   "cell_type": "code",
   "execution_count": null,
   "metadata": {},
   "outputs": [],
   "source": [
    "plt.scatter(principal_components[:,0], principal_components[:,1], c=pred, cmap='rainbow', alpha=0.7, edgecolors='b')\n",
    "plt.xlabel(\"Principal Component 1\")\n",
    "plt.ylabel(\"Principal Component 2\")\n",
    "plt.title(\"Principal Component and spread of clusters\")\n",
    "plt.show()"
   ]
  },
  {
   "cell_type": "code",
   "execution_count": null,
   "metadata": {},
   "outputs": [],
   "source": [
    "tocluster['Clusters']=pred\n",
    "# Assignment of labels\n",
    "tocluster.head(1)"
   ]
  },
  {
   "cell_type": "code",
   "execution_count": null,
   "metadata": {},
   "outputs": [],
   "source": [
    "tocluster"
   ]
  },
  {
   "cell_type": "code",
   "execution_count": null,
   "metadata": {},
   "outputs": [],
   "source": [
    "tocluster.groupby(['Clusters']).mean() \n",
    "#Averages, what is inside each cluster"
   ]
  },
  {
   "cell_type": "code",
   "execution_count": null,
   "metadata": {},
   "outputs": [],
   "source": [
    "Have_VAL=(tocluster['1']==1) | (tocluster['Shot Assist']==1)\n",
    "#  Check In which clusters have qualifiers and Assists\n",
    "tocluster['Value_Individual_Pass']=Have_VAL.replace({True : 1, False : 0})\n",
    "tocluster['Value_Individual_Pass']=tocluster['Value_Individual_Pass']*2\n",
    "Ranks_data_info=pd.concat([RemainingCols,tocluster],axis=1)\n",
    "# Combining All Columns"
   ]
  },
  {
   "cell_type": "code",
   "execution_count": null,
   "metadata": {},
   "outputs": [],
   "source": []
  },
  {
   "cell_type": "markdown",
   "metadata": {},
   "source": [
    "# Expected Goals Assignments based on Clusters"
   ]
  },
  {
   "cell_type": "code",
   "execution_count": null,
   "metadata": {},
   "outputs": [],
   "source": [
    "x = Ranks_data_info['x']\n",
    "y = Ranks_data_info['y']\n",
    "z = Ranks_data_info['Value_Individual_Pass']\n",
    "gridsize = 30 \n",
    "plt.hexbin(x, y, C=z)   \n",
    "cb = plt.colorbar()\n",
    "cb.set_label('Value of Individual Pass')\n",
    "plt.gcf().set_size_inches(15, 12)\n",
    "plt.xlabel(\"X-location\")\n",
    "plt.ylabel(\"Y-location\")\n",
    "plt.title(\"Individual Values at all locations 2018-19\")\n",
    "plt.show() "
   ]
  },
  {
   "cell_type": "code",
   "execution_count": null,
   "metadata": {},
   "outputs": [],
   "source": [
    "RanksInfo=Ranks_data_info.groupby(['x','y'])['Value_Individual_Pass'].mean().reset_index()\n",
    "x = RanksInfo['x']\n",
    "y = RanksInfo['y']\n",
    "z = RanksInfo['Value_Individual_Pass']\n",
    "gridsize = 30 \n",
    "plt.hexbin(x, y, C=z)   \n",
    "cb = plt.colorbar()\n",
    "cb.set_label('Value of Individual Pass')\n",
    "plt.gcf().set_size_inches(15, 12)\n",
    "plt.xlabel(\"X-location\")\n",
    "plt.ylabel(\"Y-location\")\n",
    "plt.title(\"Avearge of Individual Values at all locations 2018-19\")\n",
    "plt.show() "
   ]
  },
  {
   "cell_type": "code",
   "execution_count": null,
   "metadata": {},
   "outputs": [],
   "source": [
    "RanksInfo"
   ]
  },
  {
   "cell_type": "code",
   "execution_count": null,
   "metadata": {},
   "outputs": [],
   "source": [
    "to_plot=Ranks_data_info[['position','Value_Individual_Pass']]\n",
    "to_plot.boxplot(by='position')\n",
    "plt.gcf().set_size_inches(15, 12)\n",
    "plt.ylabel(\"Passes Outcome Value\")\n",
    "plt.show() "
   ]
  },
  {
   "cell_type": "markdown",
   "metadata": {},
   "source": [
    "## Mean Calculation"
   ]
  },
  {
   "cell_type": "code",
   "execution_count": null,
   "metadata": {},
   "outputs": [],
   "source": [
    "to_plot.groupby(\"position\").mean()"
   ]
  },
  {
   "cell_type": "markdown",
   "metadata": {},
   "source": [
    "## Standard Deviation"
   ]
  },
  {
   "cell_type": "code",
   "execution_count": null,
   "metadata": {},
   "outputs": [],
   "source": [
    "to_plot.groupby(\"position\").std()"
   ]
  },
  {
   "cell_type": "markdown",
   "metadata": {},
   "source": [
    "## To Rank players Calculation of Assist Count/ Min Played"
   ]
  },
  {
   "cell_type": "code",
   "execution_count": null,
   "metadata": {},
   "outputs": [],
   "source": [
    "Ranks_data_info=Pre_Processing_step_dataframe.dropna(axis=1)\n",
    "# Number Of minutes Played\n",
    "Ranking_dataframe=pd.DataFrame(Ranks_data_info.groupby(['player_name','GameID'])['mins_played'].mean()) \n",
    "#Sum of total minutes player played in all matches\n",
    "Ranking_dataframe=Ranking_dataframe.reset_index()\n",
    "Ranking_dataframe=pd.DataFrame(Ranking_dataframe.groupby(\"player_name\")['mins_played'].sum())"
   ]
  },
  {
   "cell_type": "code",
   "execution_count": null,
   "metadata": {},
   "outputs": [],
   "source": [
    "Ranking_dataframe"
   ]
  },
  {
   "cell_type": "code",
   "execution_count": null,
   "metadata": {},
   "outputs": [],
   "source": [
    "Ranking_dataframe['Assists count']=assists_updated_dataframe.groupby('player_name_x')['GameID'].count() \n",
    "Ranking_dataframe=Ranking_dataframe.dropna()\n",
    "#Count of assists"
   ]
  },
  {
   "cell_type": "code",
   "execution_count": null,
   "metadata": {},
   "outputs": [],
   "source": [
    "Ranking_dataframe['Assists count per Number of Minutes Played']=(Ranking_dataframe['Assists count']/Ranking_dataframe['mins_played'])\n",
    "#Calculation of Assists count per Number of Minutes Played of each player"
   ]
  },
  {
   "cell_type": "markdown",
   "metadata": {},
   "source": [
    "# To Rank players based on Assists count per Number of Minutes Played"
   ]
  },
  {
   "cell_type": "code",
   "execution_count": null,
   "metadata": {},
   "outputs": [],
   "source": [
    "Ranking_dataframe['percent_mark_90'] = np.where(Ranking_dataframe['mins_played'] > np.percentile(Ranking_dataframe['mins_played'], 90), 1, 0)\n",
    "Ranking_dataframe=Ranking_dataframe[Ranking_dataframe['percent_mark_90']==1]\n",
    "# selection of players having maximum participation in the game"
   ]
  },
  {
   "cell_type": "code",
   "execution_count": null,
   "metadata": {},
   "outputs": [],
   "source": [
    "Ranking_dataframe.sort_values([\"Assists count per Number of Minutes Played\"],ascending=False).head(5)"
   ]
  },
  {
   "cell_type": "code",
   "execution_count": null,
   "metadata": {},
   "outputs": [],
   "source": [
    "Ranking_dataframe.sort_values([\"Assists count per Number of Minutes Played\"],ascending=False).head(5).index"
   ]
  },
  {
   "cell_type": "code",
   "execution_count": null,
   "metadata": {
    "scrolled": false
   },
   "outputs": [],
   "source": [
    "to_rank=Ranking_dataframe.reset_index()\n",
    "alt.Chart(to_rank).mark_bar().encode(\n",
    "    x='Assists count per Number of Minutes Played',\n",
    "    y=alt.Y('player_name', sort={\"encoding\": \"x\", \"order\": \"descending\"})\n",
    ").properties(\n",
    "    title='Top players for passes considering overall matches'\n",
    ")"
   ]
  },
  {
   "cell_type": "code",
   "execution_count": null,
   "metadata": {},
   "outputs": [],
   "source": [
    "to_rank.to_csv(\"RANK_2018-19.csv\")"
   ]
  },
  {
   "cell_type": "markdown",
   "metadata": {},
   "source": [
    "## To Rank Player for Each Position"
   ]
  },
  {
   "cell_type": "markdown",
   "metadata": {},
   "source": [
    "# Defenders"
   ]
  },
  {
   "cell_type": "code",
   "execution_count": null,
   "metadata": {},
   "outputs": [],
   "source": [
    "defend=Ranks_data_info[Ranks_data_info['position']=='Defender']\n",
    "defend1=assists_updated_dataframe[assists_updated_dataframe['position_x']=='Defender']\n",
    "# Number Of minutes defend\n",
    "# Number Of minutes Played\n",
    "\n",
    "Ranking_dataframe=pd.DataFrame(defend.groupby(['player_name','GameID'])['mins_played'].mean()) \n",
    "#Sum of total minutes player played in all matches\n",
    "Ranking_dataframe=Ranking_dataframe.reset_index()\n",
    "Ranking_dataframe=pd.DataFrame(Ranking_dataframe.groupby(\"player_name\")['mins_played'].sum())\n",
    "Ranking_dataframe['Assists count']=defend1.groupby('player_name_x')['GameID'].count() \n",
    "Ranking_dataframe=Ranking_dataframe.dropna()\n",
    "#Count of assists\n",
    "#Count of assists\n",
    "Ranking_dataframe['Assists count per Number of Minutes Played']=(Ranking_dataframe['Assists count']/Ranking_dataframe['mins_played'])\n",
    "#Calculation of Assists count per Number of Minutes Played of each player\n",
    "Ranking_dataframe['percent_mark_90'] = np.where(Ranking_dataframe['mins_played'] > np.percentile(Ranking_dataframe['mins_played'], 90), 1, 0)\n",
    "defend=Ranking_dataframe[Ranking_dataframe['percent_mark_90']==1]\n",
    "defend=defend.reset_index()\n",
    "defend.sort_values([\"Assists count per Number of Minutes Played\"],ascending=False).head(5)"
   ]
  },
  {
   "cell_type": "code",
   "execution_count": null,
   "metadata": {},
   "outputs": [],
   "source": [
    "list(defend.sort_values([\"Assists count per Number of Minutes Played\"],ascending=False).head(5)['player_name'])"
   ]
  },
  {
   "cell_type": "code",
   "execution_count": null,
   "metadata": {},
   "outputs": [],
   "source": [
    "#to_rank=to_rank.reset_index()\n",
    "alt.Chart(defend).mark_bar().encode(\n",
    "    x='Assists count per Number of Minutes Played',\n",
    "    y=alt.Y('player_name', sort={\"encoding\": \"x\", \"order\": \"descending\"})\n",
    ").properties(\n",
    "    title='Top Defenders '\n",
    ")"
   ]
  },
  {
   "cell_type": "markdown",
   "metadata": {},
   "source": [
    "# Strikers"
   ]
  },
  {
   "cell_type": "code",
   "execution_count": null,
   "metadata": {},
   "outputs": [],
   "source": [
    "Striker=Ranks_data_info[Ranks_data_info['position']=='Striker']\n",
    "Striker1=assists_updated_dataframe[assists_updated_dataframe['position_x']=='Striker']\n",
    "# Number Of minutes Striker\n",
    "# Number Of minutes Played\n",
    "# Number Of minutes Played\n",
    "Ranking_dataframe=pd.DataFrame(Striker.groupby(['player_name','GameID'])['mins_played'].mean()) #Sum of total minutes player played in all matches\n",
    "Ranking_dataframe=Ranking_dataframe.reset_index()\n",
    "Ranking_dataframe=pd.DataFrame(Ranking_dataframe.groupby(\"player_name\")['mins_played'].sum())\n",
    "Ranking_dataframe['Assists count']=Striker1.groupby('player_name_x')['GameID'].count() #Count of assists\n",
    "Ranking_dataframe=Ranking_dataframe.dropna()\n",
    "Ranking_dataframe['Assists count per Number of Minutes Played']=(Ranking_dataframe['Assists count']/Ranking_dataframe['mins_played']) #Calculation of Assists count per Number of Minutes Played  of each player\n",
    "Ranking_dataframe['percent_mark_90'] = np.where(Ranking_dataframe['mins_played'] > np.percentile(Ranking_dataframe['mins_played'], 90), 1, 0)\n",
    "Striker=Ranking_dataframe[Ranking_dataframe['percent_mark_90']==1]\n",
    "Striker=Striker.reset_index()\n",
    "Striker.sort_values([\"Assists count per Number of Minutes Played\"],ascending=False).head(5)"
   ]
  },
  {
   "cell_type": "code",
   "execution_count": null,
   "metadata": {},
   "outputs": [],
   "source": [
    "list(Striker.sort_values([\"Assists count per Number of Minutes Played\"],ascending=False).head(5)['player_name'])"
   ]
  },
  {
   "cell_type": "code",
   "execution_count": null,
   "metadata": {},
   "outputs": [],
   "source": [
    "#to_rank=to_rank.reset_index()\n",
    "alt.Chart(Striker).mark_bar().encode(\n",
    "    x='Assists count per Number of Minutes Played',\n",
    "    y=alt.Y('player_name', sort={\"encoding\": \"x\", \"order\": \"descending\"})\n",
    ").properties(\n",
    "    title='Top Striker '\n",
    ")"
   ]
  },
  {
   "cell_type": "markdown",
   "metadata": {},
   "source": [
    "# Midfielder"
   ]
  },
  {
   "cell_type": "code",
   "execution_count": null,
   "metadata": {},
   "outputs": [],
   "source": [
    "MidFielder=Ranks_data_info[Ranks_data_info['position']=='Midfielder']\n",
    "MidFielder1=assists_updated_dataframe[assists_updated_dataframe['position_x']=='Midfielder']\n",
    "# Number Of minutes MidFielder\n",
    "# Number Of minutes Played\n",
    "# Number Of minutes Played\n",
    "Ranking_dataframe=pd.DataFrame(MidFielder.groupby(['player_name','GameID'])['mins_played'].mean()) #Sum of total minutes player played in all matches\n",
    "Ranking_dataframe=Ranking_dataframe.reset_index()\n",
    "Ranking_dataframe=pd.DataFrame(Ranking_dataframe.groupby(\"player_name\")['mins_played'].sum())\n",
    "Ranking_dataframe['Assists count']=MidFielder1.groupby('player_name_x')['GameID'].count() #Count of assists\n",
    "Ranking_dataframe=Ranking_dataframe.dropna()\n",
    "Ranking_dataframe['Assists count per Number of Minutes Played']=(Ranking_dataframe['Assists count']/Ranking_dataframe['mins_played']) #Calculation of Assists count per Number of Minutes Played  of each player\n",
    "Ranking_dataframe['percent_mark_90'] = np.where(Ranking_dataframe['mins_played'] > np.percentile(Ranking_dataframe['mins_played'], 90), 1, 0)\n",
    "MidFielder=Ranking_dataframe[Ranking_dataframe['percent_mark_90']==1]\n",
    "MidFielder=MidFielder.reset_index()\n",
    "MidFielder.sort_values([\"Assists count per Number of Minutes Played\"],ascending=False).head(5)"
   ]
  },
  {
   "cell_type": "code",
   "execution_count": null,
   "metadata": {},
   "outputs": [],
   "source": [
    "list(MidFielder.sort_values([\"Assists count per Number of Minutes Played\"],ascending=False).head(5)['player_name'])"
   ]
  },
  {
   "cell_type": "code",
   "execution_count": null,
   "metadata": {},
   "outputs": [],
   "source": [
    "#to_rank=to_rank.reset_index()\n",
    "alt.Chart(MidFielder).mark_bar().encode(\n",
    "    x='Assists count per Number of Minutes Played',\n",
    "    y=alt.Y('player_name', sort={\"encoding\": \"x\", \"order\": \"descending\"})\n",
    ").properties(\n",
    "    title='Top Midfielder '\n",
    ")"
   ]
  },
  {
   "cell_type": "markdown",
   "metadata": {},
   "source": [
    "# Top 5 Players with best passings In each team"
   ]
  },
  {
   "cell_type": "code",
   "execution_count": null,
   "metadata": {},
   "outputs": [],
   "source": [
    "Teams=list(Ranks_data_info['Team_Name'].unique())"
   ]
  },
  {
   "cell_type": "code",
   "execution_count": null,
   "metadata": {},
   "outputs": [],
   "source": [
    "# Number Of minutes Played\n",
    "Ranking_dataframe=pd.DataFrame(Ranks_data_info.groupby(['player_name','Team_Name','GameID'])['mins_played'].mean()) #Sum of total minutes player played in all matches\n",
    "Ranking_dataframe=Ranking_dataframe.reset_index()\n",
    "Ranking_dataframe=pd.DataFrame(Ranking_dataframe.groupby([\"player_name\",\"Team_Name\"])['mins_played'].sum())"
   ]
  },
  {
   "cell_type": "code",
   "execution_count": null,
   "metadata": {},
   "outputs": [],
   "source": [
    "Ranking_dataframe['Assists count']=assists_updated_dataframe.groupby(['player_name_x','Team_Name_x'])['GameID'].count() #Count of assists\n",
    "Ranking_dataframe=Ranking_dataframe.dropna()\n",
    "Ranking_dataframe['Assists count per Number of Minutes Played']=(Ranking_dataframe['Assists count']/Ranking_dataframe['mins_played'])"
   ]
  },
  {
   "cell_type": "code",
   "execution_count": null,
   "metadata": {},
   "outputs": [],
   "source": [
    "Teams_Information=Ranking_dataframe.reset_index()"
   ]
  },
  {
   "cell_type": "code",
   "execution_count": null,
   "metadata": {},
   "outputs": [],
   "source": [
    "Teams_Information"
   ]
  },
  {
   "cell_type": "code",
   "execution_count": null,
   "metadata": {
    "scrolled": false
   },
   "outputs": [],
   "source": [
    "i=0\n",
    "while i<len(Teams):\n",
    "    copy=Teams_Information[Teams_Information['Team_Name']==Teams[i]]\n",
    "    copy=copy.sort_values([\"mins_played\"],ascending=False).head(10)\n",
    "    copy=copy.drop([\"Team_Name\"],axis=1)\n",
    "    print(\"\\n Team \", Teams[i])\n",
    "    print(list(copy.sort_values([\"Assists count per Number of Minutes Played\"],ascending=False).head(5)['player_name']))\n",
    "    chart =alt.Chart(copy).mark_bar().encode(\n",
    "        x='Assists count per Number of Minutes Played',\n",
    "        y=alt.Y('player_name', sort= {\"encoding\": \"x\", \"order\": \"descending\"})\n",
    "    ).properties(\n",
    "        title='Season 2018-19 Top 10 players for team '+str(Teams[i])\n",
    "    )\n",
    "    chart.display()\n",
    "    i=i+1"
   ]
  },
  {
   "cell_type": "code",
   "execution_count": null,
   "metadata": {},
   "outputs": [],
   "source": [
    "Teams_Information=Teams_Information[Teams_Information['mins_played']>1000]"
   ]
  },
  {
   "cell_type": "code",
   "execution_count": null,
   "metadata": {},
   "outputs": [],
   "source": [
    "TEAMS_RANK=pd.DataFrame(Teams_Information.groupby(\"Team_Name\")['Assists count per Number of Minutes Played'].mean())"
   ]
  },
  {
   "cell_type": "code",
   "execution_count": null,
   "metadata": {},
   "outputs": [],
   "source": [
    "TEAMS_RANK.sort_values(\"Assists count per Number of Minutes Played\",ascending=False)"
   ]
  },
  {
   "cell_type": "code",
   "execution_count": null,
   "metadata": {},
   "outputs": [],
   "source": [
    "TEAMS_RANK.to_csv(\"Team_Rank2018-19.csv\")"
   ]
  },
  {
   "cell_type": "markdown",
   "metadata": {},
   "source": [
    "# 3D plot (Important Areas)"
   ]
  },
  {
   "cell_type": "code",
   "execution_count": null,
   "metadata": {},
   "outputs": [],
   "source": [
    "assists_updated_dataframe['Relx']=assists_updated_dataframe['x_x'].astype(int)\n",
    "assists_updated_dataframe['Rely']=assists_updated_dataframe['y_x'].astype(int)\n",
    "To_plot=assists_updated_dataframe.groupby(['Relx','Rely'])['Check'].count().reset_index()\n",
    "# you have all the assist locations you know which places on the field are important to pass from.\n",
    "x=To_plot['Relx']\n",
    "y=To_plot['Rely']\n",
    "z=To_plot['Check']\n",
    "mpl.rcParams['legend.fontsize'] = 10\n",
    "\n",
    "fig = plt.figure()\n",
    "ax = fig.gca(projection='3d')\n",
    "ax.scatter3D(x, y, z, c=z, cmap='Greens', label='Assist Number of Assists in Locations');\n",
    "ax.legend()\n",
    "\n",
    "ax.set_xlabel('$X$', fontsize=20, rotation=150)\n",
    "ax.set_ylabel('$Y$', fontsize=20, rotation=30)\n",
    "ax.set_zlabel(r'Assist Count', fontsize=10, rotation=60)\n",
    "ax.yaxis._axinfo['label']['space_factor'] = 3.0\n",
    "\n",
    "plt.show()"
   ]
  },
  {
   "cell_type": "markdown",
   "metadata": {},
   "source": [
    "# Passes other then assists and players imporatnce based on passing on those areas"
   ]
  },
  {
   "cell_type": "code",
   "execution_count": null,
   "metadata": {},
   "outputs": [],
   "source": [
    "To_plot.columns=['Relx','Rely','Number of Assists in Location']\n",
    "Events_data = pd.merge(assists_updated_dataframe, To_plot,  how='left', left_on=['Relx','Rely'], right_on = ['Relx','Rely'])\n",
    "otherpass=Shots_dataframe[Shots_dataframe['55'].isna()]\n",
    "# passes other then assists\n",
    "otherpass['Relx']=otherpass['x'].astype(int)\n",
    "otherpass['Rely']=otherpass['y'].astype(int)\n",
    "Events_data = pd.merge(otherpass, To_plot,  how='left', left_on=['Relx','Rely'], right_on = ['Relx','Rely'])\n",
    "Events_data['Number of Assists in Location']=Events_data['Number of Assists in Location'].fillna(0)\n",
    "PassesIMport=Events_data.groupby('player_name')['Number of Assists in Location'].sum().reset_index().sort_values(\"Number of Assists in Location\").reset_index(drop=True)"
   ]
  },
  {
   "cell_type": "code",
   "execution_count": null,
   "metadata": {},
   "outputs": [],
   "source": [
    "PassesIMport"
   ]
  },
  {
   "cell_type": "code",
   "execution_count": null,
   "metadata": {},
   "outputs": [],
   "source": [
    "TOP20=PassesIMport.tail(20)\n",
    "#to_rank=to_rank.reset_index()\n",
    "alt.Chart(TOP20).mark_bar().encode(\n",
    "    x='Number of Assists in Location',\n",
    "    y=alt.Y('player_name', sort={\"encoding\": \"x\", \"order\": \"descending\"})\n",
    ").properties(\n",
    "    title='Top Players based on Area '\n",
    ")"
   ]
  },
  {
   "cell_type": "code",
   "execution_count": null,
   "metadata": {},
   "outputs": [],
   "source": [
    "Events_data = pd.merge(Teams_Information, PassesIMport,  how='left', left_on=['player_name'], right_on = ['player_name'])"
   ]
  },
  {
   "cell_type": "code",
   "execution_count": null,
   "metadata": {
    "scrolled": false
   },
   "outputs": [],
   "source": [
    "i=0\n",
    "while i<len(Teams):\n",
    "    copy=Events_data[Events_data['Team_Name']==Teams[i]]\n",
    "    copy=copy.sort_values([\"mins_played\"],ascending=False).head(10)\n",
    "    copy=copy.drop([\"Team_Name\"],axis=1)\n",
    "    print(\"\\n Team \", Teams[i])\n",
    "    print(list(copy.sort_values([\"Number of Assists in Location\"],ascending=False).head(5)['player_name']))\n",
    "    chart =alt.Chart(copy).mark_bar().encode(\n",
    "        x='Number of Assists in Location',\n",
    "        y=alt.Y('player_name', sort= {\"encoding\": \"x\", \"order\": \"descending\"})\n",
    "    ).properties(\n",
    "        title='Season 2018-19 Top 10 players for team '+str(Teams[i])\n",
    "    )\n",
    "    chart.display()\n",
    "    i=i+1"
   ]
  },
  {
   "cell_type": "code",
   "execution_count": null,
   "metadata": {},
   "outputs": [],
   "source": [
    "TEAMS_RANK1=pd.DataFrame(Events_data.groupby(\"Team_Name\")['Number of Assists in Location'].mean())"
   ]
  },
  {
   "cell_type": "code",
   "execution_count": null,
   "metadata": {},
   "outputs": [],
   "source": [
    "TEAMS_RANK1.sort_values(\"Number of Assists in Location\",ascending=False)"
   ]
  },
  {
   "cell_type": "code",
   "execution_count": null,
   "metadata": {},
   "outputs": [],
   "source": []
  }
 ],
 "metadata": {
  "kernelspec": {
   "display_name": "Python 3",
   "language": "python",
   "name": "python3"
  },
  "language_info": {
   "codemirror_mode": {
    "name": "ipython",
    "version": 3
   },
   "file_extension": ".py",
   "mimetype": "text/x-python",
   "name": "python",
   "nbconvert_exporter": "python",
   "pygments_lexer": "ipython3",
   "version": "3.8.5"
  }
 },
 "nbformat": 4,
 "nbformat_minor": 4
}
